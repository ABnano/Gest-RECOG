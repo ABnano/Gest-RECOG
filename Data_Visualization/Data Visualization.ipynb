{
 "cells": [
  {
   "cell_type": "markdown",
   "id": "f286c6c2",
   "metadata": {},
   "source": [
    "# STEP #1: IMPORTING LIBRARIES"
   ]
  },
  {
   "cell_type": "code",
   "execution_count": null,
   "id": "69197e61",
   "metadata": {},
   "outputs": [],
   "source": [
    "# import libraries \n",
    "import pandas as pd # Import Pandas for data manipulation using dataframes\n",
    "import numpy as np # Import Numpy for data statistical analysis \n",
    "import matplotlib.pyplot as plt # Import matplotlib for data visualisation\n",
    "import seaborn as sns # Statistical data visualization"
   ]
  },
  {
   "cell_type": "markdown",
   "id": "7f750877",
   "metadata": {},
   "source": [
    "# STEP #2: LOADING DATA"
   ]
  },
  {
   "cell_type": "code",
   "execution_count": null,
   "id": "92a07e78",
   "metadata": {},
   "outputs": [],
   "source": [
    "df = pd.read_csv('')\n",
    "df.head()\n",
    "df.tail()"
   ]
  },
  {
   "cell_type": "markdown",
   "id": "3b019b07",
   "metadata": {},
   "source": [
    "# STEP #3: VISUALIZING THE DATA"
   ]
  },
  {
   "cell_type": "code",
   "execution_count": null,
   "id": "14708315",
   "metadata": {},
   "outputs": [],
   "source": [
    "sns.pairplot(bank_df, hue = '', vars = ['', ''] "
   ]
  },
  {
   "cell_type": "code",
   "execution_count": null,
   "id": "63ae4639",
   "metadata": {},
   "outputs": [],
   "source": [
    "sns.countplot(bank_df[''], label = \"\") "
   ]
  },
  {
   "cell_type": "code",
   "execution_count": null,
   "id": "e7554e86",
   "metadata": {},
   "outputs": [],
   "source": [
    "plt.figure(figsize=[6,12])\n",
    "plt.subplot(211)\n",
    "sns.countplot(x = '', data = training_set)\n",
    "plt.subplot(212)\n",
    "sns.countplot(x = '', hue = '', data=training_set)"
   ]
  },
  {
   "cell_type": "code",
   "execution_count": null,
   "id": "331f5298",
   "metadata": {},
   "outputs": [],
   "source": [
    "plt.figure(figsize=(40,30))\n",
    "sns.countplot(x = '', hue = '', data=training_set)"
   ]
  },
  {
   "cell_type": "code",
   "execution_count": null,
   "id": "daade9dd",
   "metadata": {},
   "outputs": [],
   "source": [
    "plt.figure(figsize=(10,10)) \n",
    "sns.heatmap(Kyphosis_df.corr(), annot=True) "
   ]
  }
 ],
 "metadata": {
  "kernelspec": {
   "display_name": "Python 3 (ipykernel)",
   "language": "python",
   "name": "python3"
  },
  "language_info": {
   "codemirror_mode": {
    "name": "ipython",
    "version": 3
   },
   "file_extension": ".py",
   "mimetype": "text/x-python",
   "name": "python",
   "nbconvert_exporter": "python",
   "pygments_lexer": "ipython3",
   "version": "3.9.12"
  }
 },
 "nbformat": 4,
 "nbformat_minor": 5
}
